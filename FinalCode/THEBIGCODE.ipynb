{
 "cells": [
  {
   "cell_type": "code",
   "execution_count": null,
   "metadata": {},
   "outputs": [],
   "source": [
    "import struct\n",
    "import sys\n",
    "import serial\n",
    "import binascii\n",
    "import time\n",
    "import numpy as np\n",
    "import math\n",
    "\n",
    "import os\n",
    "import datetime\n",
    "import matplotlib.pyplot as plt\n",
    "\n",
    "# Local File Imports\n",
    "from parse_bin_output import *\n",
    "\n",
    "# specify the binary file path below\n",
    "\n",
    "import os\n",
    "import time\n",
    "\n",
    "def detect_new_bin_file(path):\n",
    "  output_dict = parse_ADC(path)\n",
    "  return smooth_data(Car_finder(output_dict))\n",
    "\n",
    "def monitor_directory(path):\n",
    "  before = dict([(f, None) for f in os.listdir(path)])\n",
    "  while True:\n",
    "    time.sleep(1)\n",
    "    after = dict([(f, None) for f in os.listdir(path)])\n",
    "    added = [f for f in after if not f in before]\n",
    "    if added:\n",
    "      return detect_new_bin_file(path+\"/\"+added[0])\n",
    "    before = after\n",
    "\n",
    "if __name__ == \"__main__\":\n",
    "  path = \"../binData\"\n",
    "#     monitor_directory(path)"
   ]
  }
 ],
 "metadata": {
  "language_info": {
   "name": "python"
  }
 },
 "nbformat": 4,
 "nbformat_minor": 2
}
